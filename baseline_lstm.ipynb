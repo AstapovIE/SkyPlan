{
 "cells": [
  {
   "cell_type": "code",
   "id": "initial_id",
   "metadata": {
    "collapsed": true,
    "ExecuteTime": {
     "end_time": "2025-03-31T13:54:02.330257Z",
     "start_time": "2025-03-31T13:53:31.261370Z"
    }
   },
   "source": [
    "import torch\n",
    "import torch.nn as nn\n",
    "import torch.optim as optim\n",
    "import numpy as np\n",
    "import pandas as pd\n",
    "from sklearn.preprocessing import StandardScaler\n",
    "from torch.utils.data import DataLoader, TensorDataset\n",
    "\n",
    "# Проверка доступности GPU\n",
    "device = torch.device('cuda' if torch.cuda.is_available() else 'cpu')\n",
    "print(f'Using device: {device}')"
   ],
   "outputs": [
    {
     "name": "stdout",
     "output_type": "stream",
     "text": [
      "Using device: cuda\n"
     ]
    }
   ],
   "execution_count": 1
  },
  {
   "metadata": {
    "ExecuteTime": {
     "end_time": "2025-03-31T14:10:06.729097Z",
     "start_time": "2025-03-31T14:10:05.288474Z"
    }
   },
   "cell_type": "code",
   "source": [
    "df = pd.read_csv(\"weather_data.csv\")\n",
    "df.info()"
   ],
   "id": "51fda199e4911a2f",
   "outputs": [
    {
     "name": "stdout",
     "output_type": "stream",
     "text": [
      "<class 'pandas.core.frame.DataFrame'>\n",
      "RangeIndex: 1305820 entries, 0 to 1305819\n",
      "Data columns (total 13 columns):\n",
      " #   Column      Non-Null Count    Dtype  \n",
      "---  ------      --------------    -----  \n",
      " 0   weather_id  1305820 non-null  int64  \n",
      " 1   city_id     1305820 non-null  int64  \n",
      " 2   time        1305820 non-null  object \n",
      " 3   tavg        1207223 non-null  float64\n",
      " 4   tmin        1217650 non-null  float64\n",
      " 5   tmax        1216483 non-null  float64\n",
      " 6   prcp        1048725 non-null  float64\n",
      " 7   snow        248792 non-null   float64\n",
      " 8   wdir        651699 non-null   float64\n",
      " 9   wspd        824380 non-null   float64\n",
      " 10  wpgt        18196 non-null    float64\n",
      " 11  pres        403416 non-null   float64\n",
      " 12  tsun        0 non-null        float64\n",
      "dtypes: float64(10), int64(2), object(1)\n",
      "memory usage: 129.5+ MB\n"
     ]
    }
   ],
   "execution_count": 8
  },
  {
   "metadata": {
    "ExecuteTime": {
     "end_time": "2025-03-31T14:02:27.900247Z",
     "start_time": "2025-03-31T14:02:27.888348Z"
    }
   },
   "cell_type": "code",
   "source": "df[1300000:].info()",
   "id": "ae79b47ed4e7dfb4",
   "outputs": [
    {
     "name": "stdout",
     "output_type": "stream",
     "text": [
      "<class 'pandas.core.frame.DataFrame'>\n",
      "RangeIndex: 5820 entries, 1300000 to 1305819\n",
      "Data columns (total 13 columns):\n",
      " #   Column      Non-Null Count  Dtype  \n",
      "---  ------      --------------  -----  \n",
      " 0   weather_id  5820 non-null   int64  \n",
      " 1   city_id     5820 non-null   int64  \n",
      " 2   time        5820 non-null   object \n",
      " 3   tavg        5812 non-null   float64\n",
      " 4   tmin        5820 non-null   float64\n",
      " 5   tmax        5820 non-null   float64\n",
      " 6   prcp        5482 non-null   float64\n",
      " 7   snow        1428 non-null   float64\n",
      " 8   wdir        4779 non-null   float64\n",
      " 9   wspd        5802 non-null   float64\n",
      " 10  wpgt        0 non-null      float64\n",
      " 11  pres        2140 non-null   float64\n",
      " 12  tsun        0 non-null      float64\n",
      "dtypes: float64(10), int64(2), object(1)\n",
      "memory usage: 591.2+ KB\n"
     ]
    }
   ],
   "execution_count": 7
  },
  {
   "metadata": {
    "ExecuteTime": {
     "end_time": "2025-03-31T14:33:56.997050Z",
     "start_time": "2025-03-31T14:33:56.987480Z"
    }
   },
   "cell_type": "code",
   "source": [
    "def clean_data(df):\n",
    "    # Создаем копию DataFrame, чтобы избежать SettingWithCopyWarning\n",
    "    df = df.copy()\n",
    "    \n",
    "    # 1. Обработка времени\n",
    "    df['time'] = pd.to_datetime(df['time'])\n",
    "    df['month'] = df['time'].dt.month\n",
    "    df['day_of_year'] = df['time'].dt.dayofyear\n",
    "    \n",
    "    # 2. Удаление бесполезных столбцов\n",
    "    df = df.drop(columns=['tsun', 'wpgt', 'wdir'])\n",
    "    \n",
    "    # 3. Заполнение пропусков\n",
    "    df = df.sort_values(by=['city_id', 'time'])\n",
    "    for col in ['tavg', 'tmin', 'tmax', 'prcp', 'snow', 'wspd', 'pres']:\n",
    "        df[col] = df.groupby('city_id')[col].transform(lambda x: x.interpolate(method='linear'))\n",
    "        df[col] = df.groupby(['city_id', 'month'])[col].transform(lambda x: x.fillna(x.median()))\n",
    "    \n",
    "    # 4. Оптимизация типов данных\n",
    "    # Приводим float-колонки к float32 (если не нужна высокая точность)\n",
    "    float_cols = ['tavg', 'tmin', 'tmax', 'prcp', 'snow', 'wspd', 'pres']\n",
    "    df[float_cols] = df[float_cols].astype('float32')\n",
    "    \n",
    "    # city_id и weather_id тоже можно привести к оптимальному типу\n",
    "    if 'weather_id' in df.columns:\n",
    "        df['weather_id'] = df['weather_id'].astype('int32')\n",
    "    df['city_id'] = df['city_id'].astype('int32')\n",
    "    \n",
    "    # 5. Удаление строк с оставшимися пропусками\n",
    "    df = df.dropna()\n",
    "    \n",
    "    return df"
   ],
   "id": "c6d30a42f08c9a28",
   "outputs": [],
   "execution_count": 18
  },
  {
   "metadata": {
    "ExecuteTime": {
     "end_time": "2025-03-31T14:42:47.786558Z",
     "start_time": "2025-03-31T14:42:46.757801Z"
    }
   },
   "cell_type": "code",
   "source": [
    "df_cleaned = clean_data(df[1200000:].copy())\n",
    "df_cleaned.info()"
   ],
   "id": "93addde583c360b3",
   "outputs": [
    {
     "name": "stderr",
     "output_type": "stream",
     "text": [
      "D:\\SkyPlan\\skyplan\\Lib\\site-packages\\numpy\\lib\\_nanfunctions_impl.py:1215: RuntimeWarning: Mean of empty slice\n",
      "  return np.nanmean(a, axis, out=out, keepdims=keepdims)\n",
      "D:\\SkyPlan\\skyplan\\Lib\\site-packages\\numpy\\lib\\_nanfunctions_impl.py:1215: RuntimeWarning: Mean of empty slice\n",
      "  return np.nanmean(a, axis, out=out, keepdims=keepdims)\n",
      "D:\\SkyPlan\\skyplan\\Lib\\site-packages\\numpy\\lib\\_nanfunctions_impl.py:1215: RuntimeWarning: Mean of empty slice\n",
      "  return np.nanmean(a, axis, out=out, keepdims=keepdims)\n",
      "D:\\SkyPlan\\skyplan\\Lib\\site-packages\\numpy\\lib\\_nanfunctions_impl.py:1215: RuntimeWarning: Mean of empty slice\n",
      "  return np.nanmean(a, axis, out=out, keepdims=keepdims)\n",
      "D:\\SkyPlan\\skyplan\\Lib\\site-packages\\numpy\\lib\\_nanfunctions_impl.py:1215: RuntimeWarning: Mean of empty slice\n",
      "  return np.nanmean(a, axis, out=out, keepdims=keepdims)\n",
      "D:\\SkyPlan\\skyplan\\Lib\\site-packages\\numpy\\lib\\_nanfunctions_impl.py:1215: RuntimeWarning: Mean of empty slice\n",
      "  return np.nanmean(a, axis, out=out, keepdims=keepdims)\n",
      "D:\\SkyPlan\\skyplan\\Lib\\site-packages\\numpy\\lib\\_nanfunctions_impl.py:1215: RuntimeWarning: Mean of empty slice\n",
      "  return np.nanmean(a, axis, out=out, keepdims=keepdims)\n",
      "D:\\SkyPlan\\skyplan\\Lib\\site-packages\\numpy\\lib\\_nanfunctions_impl.py:1215: RuntimeWarning: Mean of empty slice\n",
      "  return np.nanmean(a, axis, out=out, keepdims=keepdims)\n",
      "D:\\SkyPlan\\skyplan\\Lib\\site-packages\\numpy\\lib\\_nanfunctions_impl.py:1215: RuntimeWarning: Mean of empty slice\n",
      "  return np.nanmean(a, axis, out=out, keepdims=keepdims)\n",
      "D:\\SkyPlan\\skyplan\\Lib\\site-packages\\numpy\\lib\\_nanfunctions_impl.py:1215: RuntimeWarning: Mean of empty slice\n",
      "  return np.nanmean(a, axis, out=out, keepdims=keepdims)\n",
      "D:\\SkyPlan\\skyplan\\Lib\\site-packages\\numpy\\lib\\_nanfunctions_impl.py:1215: RuntimeWarning: Mean of empty slice\n",
      "  return np.nanmean(a, axis, out=out, keepdims=keepdims)\n",
      "D:\\SkyPlan\\skyplan\\Lib\\site-packages\\numpy\\lib\\_nanfunctions_impl.py:1215: RuntimeWarning: Mean of empty slice\n",
      "  return np.nanmean(a, axis, out=out, keepdims=keepdims)\n"
     ]
    },
    {
     "name": "stdout",
     "output_type": "stream",
     "text": [
      "<class 'pandas.core.frame.DataFrame'>\n",
      "Index: 98520 entries, 1200000 to 1305819\n",
      "Data columns (total 12 columns):\n",
      " #   Column       Non-Null Count  Dtype         \n",
      "---  ------       --------------  -----         \n",
      " 0   weather_id   98520 non-null  int32         \n",
      " 1   city_id      98520 non-null  int32         \n",
      " 2   time         98520 non-null  datetime64[ns]\n",
      " 3   tavg         98520 non-null  float32       \n",
      " 4   tmin         98520 non-null  float32       \n",
      " 5   tmax         98520 non-null  float32       \n",
      " 6   prcp         98520 non-null  float32       \n",
      " 7   snow         98520 non-null  float32       \n",
      " 8   wspd         98520 non-null  float32       \n",
      " 9   pres         98520 non-null  float32       \n",
      " 10  month        98520 non-null  int32         \n",
      " 11  day_of_year  98520 non-null  int32         \n",
      "dtypes: datetime64[ns](1), float32(7), int32(4)\n",
      "memory usage: 5.6 MB\n"
     ]
    }
   ],
   "execution_count": 28
  },
  {
   "metadata": {
    "ExecuteTime": {
     "end_time": "2025-03-31T14:43:14.864160Z",
     "start_time": "2025-03-31T14:43:14.541470Z"
    }
   },
   "cell_type": "code",
   "source": [
    "# Предобработка данных\n",
    "def prepare_data(df, sequence_length=7, target_length=7):\n",
    "    # Разделение на обучающую и тестовую выборки\n",
    "    train_size = int(0.8 * len(df))\n",
    "    train_data = df.iloc[:train_size]\n",
    "    test_data = df.iloc[train_size:]\n",
    "    \n",
    "    # Нормализация данных\n",
    "    scaler = StandardScaler()\n",
    "    train_scaled = scaler.fit_transform(train_data.drop(columns=['time', 'city_id', 'weather_id']))\n",
    "    test_scaled = scaler.transform(test_data.drop(columns=['time', 'city_id', 'weather_id']))\n",
    "    \n",
    "    # Создание последовательностей\n",
    "    def create_sequences(data, sequence_length, target_length):\n",
    "        X, y = [], []\n",
    "        for i in range(len(data) - sequence_length - target_length + 1):\n",
    "            X.append(data[i:i+sequence_length])\n",
    "            y.append(data[i+sequence_length:i+sequence_length+target_length])\n",
    "        return np.array(X), np.array(y)\n",
    "    \n",
    "    X_train, y_train = create_sequences(train_scaled, sequence_length, target_length)\n",
    "    X_test, y_test = create_sequences(test_scaled, sequence_length, target_length)\n",
    "    \n",
    "    return X_train, y_train, X_test, y_test, scaler\n",
    "\n",
    "# Подготовка данных\n",
    "X_train, y_train, X_test, y_test, scaler = prepare_data(df_cleaned)\n",
    "\n",
    "# Преобразование в тензоры PyTorch\n",
    "X_train = torch.tensor(X_train, dtype=torch.float32).to(device)\n",
    "y_train = torch.tensor(y_train, dtype=torch.float32).to(device)\n",
    "X_test = torch.tensor(X_test, dtype=torch.float32).to(device)\n",
    "y_test = torch.tensor(y_test, dtype=torch.float32).to(device)\n",
    "\n",
    "# Создание DataLoader\n",
    "train_dataset = TensorDataset(X_train, y_train)\n",
    "train_loader = DataLoader(train_dataset, batch_size=32, shuffle=True)"
   ],
   "id": "dd872bb9d4505fc2",
   "outputs": [],
   "execution_count": 29
  },
  {
   "metadata": {
    "ExecuteTime": {
     "end_time": "2025-03-31T14:43:14.913420Z",
     "start_time": "2025-03-31T14:43:14.883144Z"
    }
   },
   "cell_type": "code",
   "source": [
    "for a, b in train_loader:\n",
    "    print(a.shape,b.shape)\n",
    "    break"
   ],
   "id": "c221065f382f02f4",
   "outputs": [
    {
     "name": "stdout",
     "output_type": "stream",
     "text": [
      "torch.Size([32, 7, 9]) torch.Size([32, 7, 9])\n"
     ]
    }
   ],
   "execution_count": 30
  },
  {
   "metadata": {
    "ExecuteTime": {
     "end_time": "2025-03-31T14:43:17.615396Z",
     "start_time": "2025-03-31T14:43:17.608648Z"
    }
   },
   "cell_type": "code",
   "source": [
    " # Определение модели\n",
    "class WeatherLSTM(nn.Module):\n",
    "    def __init__(self, input_size, hidden_size, num_layers, output_size, sequence_length):\n",
    "        super(WeatherLSTM, self).__init__()\n",
    "        self.hidden_size = hidden_size\n",
    "        self.num_layers = num_layers\n",
    "        self.lstm = nn.LSTM(input_size, hidden_size, num_layers, batch_first=True)\n",
    "        self.fc = nn.Linear(hidden_size * sequence_length, output_size)\n",
    "    \n",
    "    def forward(self, x):\n",
    "        h0 = torch.zeros(self.num_layers, x.size(0), self.hidden_size).to(x.device)\n",
    "        c0 = torch.zeros(self.num_layers, x.size(0), self.hidden_size).to(x.device)\n",
    "        \n",
    "        out, _ = self.lstm(x, (h0, c0))\n",
    "        out = out.reshape(out.size(0), -1)  # Выравнивание для полносвязного слоя\n",
    "        out = self.fc(out)\n",
    "        return out\n"
   ],
   "id": "91c80a88958fbcad",
   "outputs": [],
   "execution_count": 31
  },
  {
   "metadata": {
    "ExecuteTime": {
     "end_time": "2025-03-31T14:43:18.078057Z",
     "start_time": "2025-03-31T14:43:18.035521Z"
    }
   },
   "cell_type": "code",
   "source": [
    "# Параметры модели\n",
    "input_size = X_train.shape[2]  # Количество признаков\n",
    "hidden_size = 64\n",
    "num_layers = 2\n",
    "output_size = y_train.shape[1] * y_train.shape[2]  # Количество прогнозируемых значений\n",
    "sequence_length = X_train.shape[1]\n",
    "\n",
    "# Инициализация модели, функции потерь и оптимизатора\n",
    "model = WeatherLSTM(input_size, hidden_size, num_layers, output_size, sequence_length).to(device)\n",
    "criterion = nn.MSELoss()\n",
    "optimizer = optim.Adam(model.parameters(), lr=0.001)"
   ],
   "id": "70c1ca74e912db41",
   "outputs": [],
   "execution_count": 32
  },
  {
   "metadata": {
    "ExecuteTime": {
     "end_time": "2025-03-31T14:51:16.433199Z",
     "start_time": "2025-03-31T14:43:18.600657Z"
    }
   },
   "cell_type": "code",
   "source": [
    "# Обучение модели\n",
    "num_epochs = 50\n",
    "for epoch in range(num_epochs):\n",
    "    model.train()\n",
    "    for batch_X, batch_y in train_loader:\n",
    "        optimizer.zero_grad()\n",
    "        outputs = model(batch_X)\n",
    "        loss = criterion(outputs, batch_y.reshape(batch_y.size(0), -1))\n",
    "        loss.backward()\n",
    "        optimizer.step()\n",
    "    \n",
    "    print(f'Epoch [{epoch+1}/{num_epochs}], Loss: {loss.item():.4f}')"
   ],
   "id": "a31a79cc3262b459",
   "outputs": [
    {
     "name": "stdout",
     "output_type": "stream",
     "text": [
      "Epoch [1/50], Loss: 0.3336\n",
      "Epoch [2/50], Loss: 0.2759\n",
      "Epoch [3/50], Loss: 0.2513\n",
      "Epoch [4/50], Loss: 0.2393\n",
      "Epoch [5/50], Loss: 0.2530\n",
      "Epoch [6/50], Loss: 0.1308\n",
      "Epoch [7/50], Loss: 0.2700\n",
      "Epoch [8/50], Loss: 0.1461\n",
      "Epoch [9/50], Loss: 0.2504\n",
      "Epoch [10/50], Loss: 0.3795\n",
      "Epoch [11/50], Loss: 0.2230\n",
      "Epoch [12/50], Loss: 0.4143\n",
      "Epoch [13/50], Loss: 0.1432\n",
      "Epoch [14/50], Loss: 0.2002\n",
      "Epoch [15/50], Loss: 0.1444\n",
      "Epoch [16/50], Loss: 0.1763\n",
      "Epoch [17/50], Loss: 0.1479\n",
      "Epoch [18/50], Loss: 0.1827\n",
      "Epoch [19/50], Loss: 0.1978\n",
      "Epoch [20/50], Loss: 0.2473\n",
      "Epoch [21/50], Loss: 0.1700\n",
      "Epoch [22/50], Loss: 0.3610\n",
      "Epoch [23/50], Loss: 0.3043\n",
      "Epoch [24/50], Loss: 0.1277\n",
      "Epoch [25/50], Loss: 0.1947\n",
      "Epoch [26/50], Loss: 0.2027\n",
      "Epoch [27/50], Loss: 0.1488\n",
      "Epoch [28/50], Loss: 0.2487\n",
      "Epoch [29/50], Loss: 0.1832\n",
      "Epoch [30/50], Loss: 0.1693\n",
      "Epoch [31/50], Loss: 0.1765\n",
      "Epoch [32/50], Loss: 0.1367\n",
      "Epoch [33/50], Loss: 0.2950\n",
      "Epoch [34/50], Loss: 0.1201\n",
      "Epoch [35/50], Loss: 0.1548\n",
      "Epoch [36/50], Loss: 0.2204\n",
      "Epoch [37/50], Loss: 0.1984\n",
      "Epoch [38/50], Loss: 0.2289\n",
      "Epoch [39/50], Loss: 0.2945\n",
      "Epoch [40/50], Loss: 0.2578\n",
      "Epoch [41/50], Loss: 0.2278\n",
      "Epoch [42/50], Loss: 0.1554\n",
      "Epoch [43/50], Loss: 0.1834\n",
      "Epoch [44/50], Loss: 0.1463\n",
      "Epoch [45/50], Loss: 0.1105\n",
      "Epoch [46/50], Loss: 0.1543\n",
      "Epoch [47/50], Loss: 0.1407\n",
      "Epoch [48/50], Loss: 0.1765\n",
      "Epoch [49/50], Loss: 0.1840\n",
      "Epoch [50/50], Loss: 0.2173\n"
     ]
    }
   ],
   "execution_count": 33
  },
  {
   "metadata": {
    "ExecuteTime": {
     "end_time": "2025-03-31T14:36:03.163677Z",
     "start_time": "2025-03-31T14:36:03.041962Z"
    }
   },
   "cell_type": "code",
   "source": [
    "# Оценка модели\n",
    "model.eval()\n",
    "with torch.no_grad():\n",
    "    test_outputs = model(X_test)\n",
    "    test_loss = criterion(test_outputs, y_test.reshape(y_test.size(0), -1))\n",
    "    print(f'Test Loss: {test_loss.item():.4f}')"
   ],
   "id": "e54a4e89373c5127",
   "outputs": [
    {
     "name": "stdout",
     "output_type": "stream",
     "text": [
      "Test Loss: 1.0868\n"
     ]
    }
   ],
   "execution_count": 27
  },
  {
   "metadata": {},
   "cell_type": "code",
   "outputs": [],
   "execution_count": null,
   "source": "",
   "id": "3c4a810878a45673"
  }
 ],
 "metadata": {
  "kernelspec": {
   "display_name": "Python 3",
   "language": "python",
   "name": "python3"
  },
  "language_info": {
   "codemirror_mode": {
    "name": "ipython",
    "version": 2
   },
   "file_extension": ".py",
   "mimetype": "text/x-python",
   "name": "python",
   "nbconvert_exporter": "python",
   "pygments_lexer": "ipython2",
   "version": "2.7.6"
  }
 },
 "nbformat": 4,
 "nbformat_minor": 5
}
