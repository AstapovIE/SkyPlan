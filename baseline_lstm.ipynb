{
 "cells": [
  {
   "cell_type": "code",
   "execution_count": null,
   "id": "initial_id",
   "metadata": {
    "collapsed": true
   },
   "outputs": [],
   "source": [
    "import torch\n",
    "import torch.nn as nn\n",
    "import torch.optim as optim\n",
    "import numpy as np\n",
    "import pandas as pd\n",
    "from sklearn.preprocessing import StandardScaler\n",
    "from torch.utils.data import DataLoader, TensorDataset\n",
    "\n",
    "# Проверка доступности GPU\n",
    "device = torch.device('cuda' if torch.cuda.is_available() else 'cpu')\n",
    "print(f'Using device: {device}')"
   ]
  },
  {
   "metadata": {},
   "cell_type": "code",
   "outputs": [],
   "execution_count": null,
   "source": [
    "# Загрузка данных (пример)\n",
    "# Предположим, что данные уже загружены в DataFrame df\n",
    "df = pd.read_csv('weather_data.csv')\n",
    "\n",
    "# Предобработка данных\n",
    "def prepare_data(df, sequence_length=7, target_length=7):\n",
    "    # Разделение на обучающую и тестовую выборки\n",
    "    train_size = int(0.8 * len(df))\n",
    "    train_data = df.iloc[:train_size]\n",
    "    test_data = df.iloc[train_size:]\n",
    "    \n",
    "    # Нормализация данных\n",
    "    scaler = StandardScaler()\n",
    "    train_scaled = scaler.fit_transform(train_data.drop(columns=['time', 'station']))\n",
    "    test_scaled = scaler.transform(test_data.drop(columns=['time', 'station']))\n",
    "    \n",
    "    # Создание последовательностей\n",
    "    def create_sequences(data, sequence_length, target_length):\n",
    "        X, y = [], []\n",
    "        for i in range(len(data) - sequence_length - target_length + 1):\n",
    "            X.append(data[i:i+sequence_length])\n",
    "            y.append(data[i+sequence_length:i+sequence_length+target_length])\n",
    "        return np.array(X), np.array(y)\n",
    "    \n",
    "    X_train, y_train = create_sequences(train_scaled, sequence_length, target_length)\n",
    "    X_test, y_test = create_sequences(test_scaled, sequence_length, target_length)\n",
    "    \n",
    "    return X_train, y_train, X_test, y_test, scaler\n",
    "\n",
    "# Подготовка данных\n",
    "X_train, y_train, X_test, y_test, scaler = prepare_data(df)\n",
    "\n",
    "# Преобразование в тензоры PyTorch\n",
    "X_train = torch.tensor(X_train, dtype=torch.float32).to(device)\n",
    "y_train = torch.tensor(y_train, dtype=torch.float32).to(device)\n",
    "X_test = torch.tensor(X_test, dtype=torch.float32).to(device)\n",
    "y_test = torch.tensor(y_test, dtype=torch.float32).to(device)\n",
    "\n",
    "# Создание DataLoader\n",
    "train_dataset = TensorDataset(X_train, y_train)\n",
    "train_loader = DataLoader(train_dataset, batch_size=32, shuffle=True)"
   ],
   "id": "dd872bb9d4505fc2"
  },
  {
   "metadata": {},
   "cell_type": "code",
   "outputs": [],
   "execution_count": null,
   "source": [
    "# Определение модели\n",
    "class WeatherLSTM(nn.Module):\n",
    "    def __init__(self, input_size, hidden_size, num_layers, output_size, sequence_length):\n",
    "        super(WeatherLSTM, self).__init__()\n",
    "        self.hidden_size = hidden_size\n",
    "        self.num_layers = num_layers\n",
    "        self.lstm = nn.LSTM(input_size, hidden_size, num_layers, batch_first=True)\n",
    "        self.fc = nn.Linear(hidden_size * sequence_length, output_size)\n",
    "    \n",
    "    def forward(self, x):\n",
    "        h0 = torch.zeros(self.num_layers, x.size(0), self.hidden_size).to(x.device)\n",
    "        c0 = torch.zeros(self.num_layers, x.size(0), self.hidden_size).to(x.device)\n",
    "        \n",
    "        out, _ = self.lstm(x, (h0, c0))\n",
    "        out = out.reshape(out.size(0), -1)  # Выравнивание для полносвязного слоя\n",
    "        out = self.fc(out)\n",
    "        return out\n"
   ],
   "id": "91c80a88958fbcad"
  },
  {
   "metadata": {},
   "cell_type": "code",
   "outputs": [],
   "execution_count": null,
   "source": [
    "# Параметры модели\n",
    "input_size = X_train.shape[2]  # Количество признаков\n",
    "hidden_size = 64\n",
    "num_layers = 2\n",
    "output_size = y_train.shape[1] * y_train.shape[2]  # Количество прогнозируемых значений\n",
    "sequence_length = X_train.shape[1]\n",
    "\n",
    "# Инициализация модели, функции потерь и оптимизатора\n",
    "model = WeatherLSTM(input_size, hidden_size, num_layers, output_size, sequence_length).to(device)\n",
    "criterion = nn.MSELoss()\n",
    "optimizer = optim.Adam(model.parameters(), lr=0.001)"
   ],
   "id": "70c1ca74e912db41"
  },
  {
   "metadata": {},
   "cell_type": "code",
   "outputs": [],
   "execution_count": null,
   "source": [
    "# Обучение модели\n",
    "num_epochs = 50\n",
    "for epoch in range(num_epochs):\n",
    "    model.train()\n",
    "    for batch_X, batch_y in train_loader:\n",
    "        optimizer.zero_grad()\n",
    "        outputs = model(batch_X)\n",
    "        loss = criterion(outputs, batch_y.reshape(batch_y.size(0), -1))\n",
    "        loss.backward()\n",
    "        optimizer.step()\n",
    "    \n",
    "    print(f'Epoch [{epoch+1}/{num_epochs}], Loss: {loss.item():.4f}')"
   ],
   "id": "a31a79cc3262b459"
  },
  {
   "metadata": {},
   "cell_type": "code",
   "outputs": [],
   "execution_count": null,
   "source": [
    "# Оценка модели\n",
    "model.eval()\n",
    "with torch.no_grad():\n",
    "    test_outputs = model(X_test)\n",
    "    test_loss = criterion(test_outputs, y_test.reshape(y_test.size(0), -1))\n",
    "    print(f'Test Loss: {test_loss.item():.4f}')"
   ],
   "id": "e54a4e89373c5127"
  }
 ],
 "metadata": {
  "kernelspec": {
   "display_name": "Python 3",
   "language": "python",
   "name": "python3"
  },
  "language_info": {
   "codemirror_mode": {
    "name": "ipython",
    "version": 2
   },
   "file_extension": ".py",
   "mimetype": "text/x-python",
   "name": "python",
   "nbconvert_exporter": "python",
   "pygments_lexer": "ipython2",
   "version": "2.7.6"
  }
 },
 "nbformat": 4,
 "nbformat_minor": 5
}
